{
 "cells": [
  {
   "cell_type": "code",
   "execution_count": 2,
   "id": "47b958e8-eb98-487b-b7a9-360f4b71e631",
   "metadata": {},
   "outputs": [],
   "source": [
    "from matplotlib import pyplot as plt\n",
    "from sklearn.metrics import confusion_matrix, classification_report\n",
    "import pandas as pd"
   ]
  },
  {
   "cell_type": "code",
   "execution_count": 3,
   "id": "457ab655-e1b8-4869-9b30-4568bf7dec6a",
   "metadata": {},
   "outputs": [],
   "source": [
    "def print_confusion_matrix(confusion_matrix, class_names, figsize = (10,7), fontsize=14):\n",
    "    \"\"\"Prints a confusion matrix, as returned by sklearn.metrics.confusion_matrix, as a heatmap.\n",
    "    \n",
    "    Arguments\n",
    "    ---------\n",
    "    confusion_matrix: numpy.ndarray\n",
    "        The numpy.ndarray object returned from a call to sklearn.metrics.confusion_matrix. \n",
    "        Similarly constructed ndarrays can also be used.\n",
    "    class_names: list\n",
    "        An ordered list of class names, in the order they index the given confusion matrix.\n",
    "    figsize: tuple\n",
    "        A 2-long tuple, the first value determining the horizontal size of the ouputted figure,\n",
    "        the second determining the vertical size. Defaults to (10,7).\n",
    "    fontsize: int\n",
    "        Font size for axes labels. Defaults to 14.\n",
    "        \n",
    "    Returns\n",
    "    -------\n",
    "    matplotlib.figure.Figure\n",
    "        The resulting confusion matrix figure\n",
    "    \"\"\"\n",
    "    df_cm = pd.DataFrame(\n",
    "        confusion_matrix, index=class_names, columns=class_names, \n",
    "    )\n",
    "    fig = plt.figure(figsize=figsize)\n",
    "    try:\n",
    "        heatmap = sns.heatmap(df_cm, annot=True, fmt=\"d\")\n",
    "    except ValueError:\n",
    "        raise ValueError(\"Confusion matrix values must be integers.\")\n",
    "    heatmap.yaxis.set_ticklabels(heatmap.yaxis.get_ticklabels(), rotation=0, ha='right', fontsize=fontsize)\n",
    "    heatmap.xaxis.set_ticklabels(heatmap.xaxis.get_ticklabels(), rotation=45, ha='right', fontsize=fontsize)\n",
    "    plt.ylabel('Truth')\n",
    "    plt.xlabel('Prediction')"
   ]
  },
  {
   "cell_type": "code",
   "execution_count": 4,
   "id": "eeb42406-c3dc-4b25-a3a1-86017a77a73d",
   "metadata": {},
   "outputs": [],
   "source": [
    "truth =      [\"Dog\",\"Not a dog\",\"Dog\",\"Dog\",      \"Dog\", \"Not a dog\", \"Not a dog\", \"Dog\",       \"Dog\", \"Not a dog\"]\n",
    "prediction = [\"Dog\",\"Dog\",      \"Dog\",\"Not a dog\",\"Dog\", \"Not a dog\", \"Dog\",       \"Not a dog\", \"Dog\", \"Dog\"]"
   ]
  },
  {
   "cell_type": "markdown",
   "id": "c6606399-56f8-4cea-824b-56adf51b9493",
   "metadata": {},
   "source": [
    "### Plotting the predictions on a chart"
   ]
  },
  {
   "cell_type": "code",
   "execution_count": 6,
   "id": "867a9a49-ef87-4d9f-8f67-9a4c567c3bf1",
   "metadata": {},
   "outputs": [
    {
     "data": {
      "text/plain": [
       "<sklearn.metrics._plot.confusion_matrix.ConfusionMatrixDisplay at 0x1e59baa92b0>"
      ]
     },
     "execution_count": 6,
     "metadata": {},
     "output_type": "execute_result"
    },
    {
     "data": {
      "image/png": "[encoded data removed]",
      "text/plain": [
       "<Figure size 640x480 with 2 Axes>"
      ]
     },
     "metadata": {},
     "output_type": "display_data"
    }
   ],
   "source": [
    "from sklearn.metrics import confusion_matrix, ConfusionMatrixDisplay\n",
    "\n",
    "# Example: truth = actual labels, prediction = model predictions\n",
    "truth = [1, 0, 1, 1, 0, 0, 1]        # 1 = Dog, 0 = Not a Dog\n",
    "prediction = [1, 0, 1, 0, 0, 1, 1]\n",
    "\n",
    "# Create confusion matrix\n",
    "cm = confusion_matrix(truth, prediction)\n",
    "\n",
    "# Display it with labels\n",
    "disp = ConfusionMatrixDisplay(confusion_matrix=cm,\n",
    "                              display_labels=['Not A Dog','Dog'])\n",
    "disp.plot(cmap='Blues')\n"
   ]
  },
  {
   "cell_type": "code",
   "execution_count": 7,
   "id": "0a20925a-2cfb-4756-87a7-61d7a771ce14",
   "metadata": {},
   "outputs": [
    {
     "name": "stdout",
     "output_type": "stream",
     "text": [
      "              precision    recall  f1-score   support\n",
      "\n",
      "           0       0.67      0.67      0.67         3\n",
      "           1       0.75      0.75      0.75         4\n",
      "\n",
      "    accuracy                           0.71         7\n",
      "   macro avg       0.71      0.71      0.71         7\n",
      "weighted avg       0.71      0.71      0.71         7\n",
      "\n"
     ]
    }
   ],
   "source": [
    "print(classification_report(truth, prediction))"
   ]
  },
  {
   "cell_type": "markdown",
   "id": "c8ef87a1-74d1-4c31-a36b-be6ed65e863e",
   "metadata": {},
   "source": [
    "## F1 score prediction"
   ]
  },
  {
   "cell_type": "markdown",
   "id": "d179f838-0912-4494-890e-dc4f088b72e2",
   "metadata": {},
   "source": [
    "### For a dog"
   ]
  },
  {
   "cell_type": "code",
   "execution_count": 8,
   "id": "1842c209-252e-417c-ad2c-35a395fe943f",
   "metadata": {},
   "outputs": [
    {
     "data": {
      "text/plain": [
       "0.6159677419354839"
      ]
     },
     "execution_count": 8,
     "metadata": {},
     "output_type": "execute_result"
    }
   ],
   "source": [
    "2*(0.57*0.67/(0.57+0.67))"
   ]
  },
  {
   "cell_type": "markdown",
   "id": "bd91ec7e-29ec-45be-8ac9-b8481c5456c7",
   "metadata": {},
   "source": [
    "### Not a dog"
   ]
  },
  {
   "cell_type": "code",
   "execution_count": 9,
   "id": "b9325ff6-509d-4245-95b6-5ae529d4182c",
   "metadata": {},
   "outputs": [
    {
     "data": {
      "text/plain": [
       "0.2844827586206896"
      ]
     },
     "execution_count": 9,
     "metadata": {},
     "output_type": "execute_result"
    }
   ],
   "source": [
    "2*(0.33*0.25/(0.33+0.25))"
   ]
  }
 ],
 "metadata": {
  "kernelspec": {
   "display_name": "Python 3 (ipykernel)",
   "language": "python",
   "name": "python3"
  },
  "language_info": {
   "codemirror_mode": {
    "name": "ipython",
    "version": 3
   },
   "file_extension": ".py",
   "mimetype": "text/x-python",
   "name": "python",
   "nbconvert_exporter": "python",
   "pygments_lexer": "ipython3",
   "version": "3.13.5"
  }
 },
 "nbformat": 4,
 "nbformat_minor": 5
}
